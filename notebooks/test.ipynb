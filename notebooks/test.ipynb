{
 "cells": [
  {
   "cell_type": "markdown",
   "metadata": {},
   "source": [
    "### Setup"
   ]
  },
  {
   "cell_type": "code",
   "execution_count": 1,
   "metadata": {},
   "outputs": [],
   "source": [
    "# Make `scripts` importable and pull in embedder + endpoint\n",
    "import sys, os\n",
    "\n",
    "# ensure project root (one level up from notebooks/) is on sys.path\n",
    "project_root = os.path.abspath(os.path.join(os.getcwd(), \"..\"))\n",
    "if project_root not in sys.path:\n",
    "    sys.path.append(project_root)\n",
    "\n",
    "from scripts.process_data import LocalServerEmbeddings, EMBED_ENDPOINT\n",
    "\n",
    "# instantiate with the endpoint from your script\n",
    "embedder = LocalServerEmbeddings(endpoint=EMBED_ENDPOINT)"
   ]
  },
  {
   "cell_type": "code",
   "execution_count": 5,
   "metadata": {},
   "outputs": [
    {
     "name": "stdout",
     "output_type": "stream",
     "text": [
      "Connected to ChromaDB - Total documents: 3556\n"
     ]
    }
   ],
   "source": [
    "# Connect to existing ChromaDB store\n",
    "import chromadb\n",
    "from langchain_chroma import Chroma\n",
    "\n",
    "# Configuration\n",
    "COLLECTION_NAME = \"marvel_films\"\n",
    "CHROMA_DIR = os.path.join(project_root, \"data\", \"chroma\", \"chroma_marvel_wiki\")\n",
    "\n",
    "try:\n",
    "    # Create ChromaDB client\n",
    "    client = chromadb.PersistentClient(path=CHROMA_DIR)\n",
    "    collection = client.get_collection(name=COLLECTION_NAME)\n",
    "    total_direct = collection.count()\n",
    "    print(f\"Connected to ChromaDB - Total documents: {total_direct}\")\n",
    "    \n",
    "    # Create LangChain Chroma vectorstore\n",
    "    vectordb = Chroma(\n",
    "        client=client,\n",
    "        collection_name=COLLECTION_NAME,\n",
    "        embedding_function=embedder,\n",
    "    )\n",
    "\n",
    "    # Create retriever from the vectorstore\n",
    "    retriever = vectordb.as_retriever(\n",
    "        search_type=\"similarity\",\n",
    "        search_kwargs={\"k\": 5}\n",
    "    )\n",
    "    \n",
    "except Exception as e:\n",
    "    print(f\"Error setting up retriever: {e}\")\n",
    "    raise"
   ]
  },
  {
   "cell_type": "code",
   "execution_count": 6,
   "metadata": {},
   "outputs": [],
   "source": [
    "# Use the ChatOpenAI from langchain_openai\n",
    "from langchain_openai import ChatOpenAI\n",
    "\n",
    "llm = ChatOpenAI(\n",
    "    model=\"gpt-3.5-turbo\",    # or model_name if that’s the signature in your version\n",
    "    temperature=0.0,\n",
    ")"
   ]
  },
  {
   "cell_type": "code",
   "execution_count": 7,
   "metadata": {},
   "outputs": [],
   "source": [
    "# Build the RetrievalQA chain and run your test question\n",
    "from langchain.chains import RetrievalQA\n",
    "\n",
    "qa = RetrievalQA.from_chain_type(\n",
    "    llm=llm,\n",
    "    chain_type=\"stuff\",\n",
    "    retriever=retriever,\n",
    ")"
   ]
  },
  {
   "cell_type": "markdown",
   "metadata": {},
   "source": [
    "### Q&A testing"
   ]
  },
  {
   "cell_type": "code",
   "execution_count": 8,
   "metadata": {},
   "outputs": [
    {
     "name": "stderr",
     "output_type": "stream",
     "text": [
      "C:\\Users\\Elena\\AppData\\Local\\Temp\\ipykernel_21472\\168195735.py:2: LangChainDeprecationWarning: The method `Chain.__call__` was deprecated in langchain 0.1.0 and will be removed in 1.0. Use :meth:`~invoke` instead.\n",
      "  answer = qa(question)\n"
     ]
    },
    {
     "name": "stdout",
     "output_type": "stream",
     "text": [
      "Q: In Avengers: Endgame, what sacrifice does Iron Man make?\n",
      "A: {'query': 'In Avengers: Endgame, what sacrifice does Iron Man make?', 'result': 'In \"Avengers: Endgame,\" Iron Man sacrifices himself by using the Infinity Stones to snap his fingers and defeat Thanos and his army. This act ultimately leads to his death as the stones fatally burn and irradiate his body.'}\n"
     ]
    }
   ],
   "source": [
    "question = \"In Avengers: Endgame, what sacrifice does Iron Man make?\"\n",
    "answer = qa(question)\n",
    "print(\"Q:\", question)\n",
    "print(\"A:\", answer)"
   ]
  },
  {
   "cell_type": "code",
   "execution_count": 9,
   "metadata": {},
   "outputs": [
    {
     "name": "stdout",
     "output_type": "stream",
     "text": [
      "Q: Who is Ant-Man?\n",
      "A: {'query': 'Who is Ant-Man?', 'result': \"Ant-Man is a superhero character from Marvel Comics who has been portrayed by actors like Michael Douglas and Paul Rudd in the Marvel Cinematic Universe. The character's real name is Hank Pym, who is the original Ant-Man and the inventor of the Ant-Man suit and Pym Particles. Another character who takes on the Ant-Man mantle is Scott Lang, a thief hired by Hank Pym in the movies.\"}\n"
     ]
    }
   ],
   "source": [
    "question = \"Who is Ant-Man?\"\n",
    "answer = qa(question)\n",
    "print(\"Q:\", question)\n",
    "print(\"A:\", answer)"
   ]
  },
  {
   "cell_type": "code",
   "execution_count": 11,
   "metadata": {},
   "outputs": [
    {
     "name": "stdout",
     "output_type": "stream",
     "text": [
      "Q: Give me 10 members of the cast of Deadpool 2.\n",
      "A: {'query': 'Give me 10 members of the cast of Deadpool 2.', 'result': 'Here are 10 members of the cast of Deadpool 2:\\n\\n1. Ryan Reynolds as Deadpool / Wade Wilson\\n2. Tammy Chipman\\n3. Kevin Chipman\\n4. Elliot Chipman\\n5. Dopinder\\n6. Colossus (Peter Rasputin)\\n7. Negasonic Teenage Warhead (Ellie Phimister)\\n8. Yukio\\n9. Shatterstar (Rusty)\\n10. Buck'}\n"
     ]
    }
   ],
   "source": [
    "question = \"Give me 10 members of the cast of Deadpool 2.\"\n",
    "answer = qa(question)\n",
    "print(\"Q:\", question)\n",
    "print(\"A:\", answer)"
   ]
  },
  {
   "cell_type": "code",
   "execution_count": 13,
   "metadata": {},
   "outputs": [
    {
     "name": "stdout",
     "output_type": "stream",
     "text": [
      "\n",
      "--- Relevant Documents ---\n",
      "Document 1:\n",
      "Man use the gamma-ray projector on the mothership core and send it crashing to Earth. Giant Man is mortally wounded in the battle and dies in Wasp's arms. Iron Man, near death, is revived by Thor's summoning of the heavens, confirming to his allies that he is a genuine god. The Avengers hold a celebration in tribute to Giant Man and it is revealed that Banner survived by transforming into the Hulk at the last moment and he leaves. The film ends with Captain America and Black Widow furthering their relationship and sharing a passionate kiss.\n",
      "\n",
      "Source: 441565_Ultimate+Avengers+2%3A+Rise+of+the+Panther.json\n",
      "\n",
      "Document 2:\n",
      "On the platform, Stark goes to save Potts, and Rhodes saves the president. Stark summons each of his Iron Man suits, controlled remotely by J.A.R.V.I.S., to provide air support. Rhodes secures the president and leads him to safety, while Stark discovers Potts has survived the Extremis procedure. However, before he can save her, a rig collapses around them and she falls to her apparent death. Stark confronts Killian and traps him in an Iron Man suit that self-destructs, but fails to kill him. Potts, whose Extremis powers allowed her to survive her fall, intervenes and kills Killian.\n",
      "\n",
      "Source: 441682_Iron+Man+3+%28film%29.json\n",
      "\n",
      "Document 3:\n",
      "To get the fourth ring, Rhodey lures the S.H.I.E.L.D. agents away while Tony flies to Central America. Using a heat resistant armor, Iron Man flies to the center of an active volcano and finds the three remaining Elementals. Iron Man witnesses the Earth Elemental putting the ring into his belt. The Elementals attack Iron Man, sending him on a rock drifting over the lava. The Air Elemental materializes behind Iron Man and grabs him. However, Iron Man resists his grip long enough to evade the Water Elemental's attack, which instead destroys the Air Elemental. Iron Man grabs onto the Air Elemental and sends him into the lava. Iron Man attacks the Earth Elemental, managing to destroy its head and take the ring from its belt. However, the Earth Elemental just rebuilds its head and continues attacking Iron Man until he manages to fly away.\n",
      "\n",
      "Source: 448261_The+Invincible+Iron+Man+%28film%29.json\n",
      "\n",
      "Document 4:\n",
      "''\"I... am... Iron Man\"'' and snaps his fingers, causing Thanos and everyone loyal to him to disintegrate. Thanos sits in lament, accepting his fate. Pepper, Rhodey and Spider-Man rush to Tony, but [[F.R.I.D.A.Y. (Earth-199999)|F.R.I.D.A.Y.]] tells them he hasn't got long; the stones have fatally burned Nd irradiated his body. Pepper shares one last loving moment with Tony and he passes peacefully.\n",
      "\n",
      "Source: 1292984_Avengers%3A+Endgame.json\n",
      "\n",
      "Document 5:\n",
      "Killian has also manipulated American intelligence agencies regarding the Mandarin's location, luring James Rhodes—the former War Machine, now re-branded as the Iron Patriot—into a trap to steal the armor. Stark escapes and reunites with Rhodes, discovering that Killian intends to attack President Ellis aboard Air Force One. Remotely controlling his Iron Man armor, Stark saves some surviving passengers and crew but cannot stop Killian from abducting Ellis. They trace Killian to an impounded oil drilling platform where Killian intends to kill Ellis on live television. The vice president will become a puppet leader, following Killian's orders in exchange for Extremis to cure his daughter's disability.\n",
      "\n",
      "Source: 441682_Iron+Man+3+%28film%29.json\n",
      "\n"
     ]
    }
   ],
   "source": [
    "import os\n",
    "\n",
    "# Define the user's question\n",
    "query = \"In Avengers: Endgame, what sacrifice does Iron Man make?\"\n",
    "\n",
    "relevant_docs = retriever.invoke(query)\n",
    "\n",
    "# Display the relevant results with metadata\n",
    "print(\"\\n--- Relevant Documents ---\")\n",
    "for i, doc in enumerate(relevant_docs, 1):\n",
    "    print(f\"Document {i}:\\n{doc.page_content}\\n\")\n",
    "    print(f\"Source: {doc.metadata['source']}\\n\")"
   ]
  }
 ],
 "metadata": {
  "kernelspec": {
   "display_name": "Python 3.13.0 ('venv': venv)",
   "language": "python",
   "name": "python3"
  },
  "language_info": {
   "codemirror_mode": {
    "name": "ipython",
    "version": 3
   },
   "file_extension": ".py",
   "mimetype": "text/x-python",
   "name": "python",
   "nbconvert_exporter": "python",
   "pygments_lexer": "ipython3",
   "version": "3.13.0"
  },
  "orig_nbformat": 4,
  "vscode": {
   "interpreter": {
    "hash": "0455a6844fd704613d0ac5503439d73966845baf079f714fff9990df1a016182"
   }
  }
 },
 "nbformat": 4,
 "nbformat_minor": 2
}
