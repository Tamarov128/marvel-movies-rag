{
 "cells": [
  {
   "cell_type": "markdown",
   "metadata": {},
   "source": [
    "### Setup"
   ]
  },
  {
   "cell_type": "code",
   "execution_count": 11,
   "metadata": {},
   "outputs": [],
   "source": [
    "# Make `scripts` importable and pull in embedder + endpoint\n",
    "import sys, os\n",
    "\n",
    "# ensure project root (one level up from notebooks/) is on sys.path\n",
    "project_root = os.path.abspath(os.path.join(os.getcwd(), \"..\"))\n",
    "if project_root not in sys.path:\n",
    "    sys.path.append(project_root)\n",
    "\n",
    "from scripts.process_data import LocalServerEmbeddings, EMBED_ENDPOINT\n",
    "\n",
    "# instantiate with the endpoint from your script\n",
    "embedder = LocalServerEmbeddings(endpoint=EMBED_ENDPOINT)"
   ]
  },
  {
   "cell_type": "code",
   "execution_count": 12,
   "metadata": {},
   "outputs": [],
   "source": [
    "# Connect to existing ChromaDB store\n",
    "from langchain_chroma import Chroma\n",
    "\n",
    "vectordb = Chroma(\n",
    "    persist_directory=\"data/chroma\",\n",
    "    collection_name=\"marvel_films\",\n",
    "    embedding_function=embedder,\n",
    ")\n",
    "retriever = vectordb.as_retriever(search_kwargs={\"k\": 3})"
   ]
  },
  {
   "cell_type": "code",
   "execution_count": 14,
   "metadata": {},
   "outputs": [],
   "source": [
    "# Use the ChatOpenAI from langchain_openai\n",
    "from langchain_openai import ChatOpenAI\n",
    "\n",
    "llm = ChatOpenAI(\n",
    "    model=\"gpt-3.5-turbo\",    # or model_name if that’s the signature in your version\n",
    "    temperature=0.0,\n",
    ")"
   ]
  },
  {
   "cell_type": "code",
   "execution_count": 15,
   "metadata": {},
   "outputs": [],
   "source": [
    "# Build the RetrievalQA chain and run your test question\n",
    "from langchain.chains import RetrievalQA\n",
    "\n",
    "qa = RetrievalQA.from_chain_type(\n",
    "    llm=llm,\n",
    "    chain_type=\"stuff\",\n",
    "    retriever=retriever,\n",
    ")"
   ]
  },
  {
   "cell_type": "markdown",
   "metadata": {},
   "source": [
    "### Q&A testing"
   ]
  },
  {
   "cell_type": "code",
   "execution_count": 16,
   "metadata": {},
   "outputs": [
    {
     "name": "stdout",
     "output_type": "stream",
     "text": [
      "Q: In Avengers: Endgame, what sacrifice does Iron Man make?\n",
      "A: {'query': 'In Avengers: Endgame, what sacrifice does Iron Man make?', 'result': 'In Avengers: Endgame, Iron Man sacrifices himself by using the Infinity Stones to snap his fingers and defeat Thanos and his army. This act ultimately leads to his death.'}\n"
     ]
    }
   ],
   "source": [
    "question = \"In Avengers: Endgame, what sacrifice does Iron Man make?\"\n",
    "answer = qa(question)\n",
    "print(\"Q:\", question)\n",
    "print(\"A:\", answer)"
   ]
  },
  {
   "cell_type": "code",
   "execution_count": 18,
   "metadata": {},
   "outputs": [
    {
     "name": "stdout",
     "output_type": "stream",
     "text": [
      "Q: Who is Ant-Man?\n",
      "A: {'query': 'Who is Ant-Man?', 'result': 'Ant-Man is a fictional superhero appearing in comic books published by Marvel Comics. The character was created by Stan Lee, Larry Lieber, and Jack Kirby and first appeared in \"Tales to Astonish\" #27 in 1962. Ant-Man has the ability to shrink in size while increasing in strength, and he is able to communicate with insects. There have been multiple characters who have taken on the mantle of Ant-Man in the comics, with the most well-known being Scott Lang and Hank Pym.'}\n"
     ]
    }
   ],
   "source": [
    "question = \"Who is Ant-Man?\"\n",
    "answer = qa(question)\n",
    "print(\"Q:\", question)\n",
    "print(\"A:\", answer)"
   ]
  }
 ],
 "metadata": {
  "kernelspec": {
   "display_name": "Python 3.13.0 ('venv': venv)",
   "language": "python",
   "name": "python3"
  },
  "language_info": {
   "codemirror_mode": {
    "name": "ipython",
    "version": 3
   },
   "file_extension": ".py",
   "mimetype": "text/x-python",
   "name": "python",
   "nbconvert_exporter": "python",
   "pygments_lexer": "ipython3",
   "version": "3.13.0"
  },
  "orig_nbformat": 4,
  "vscode": {
   "interpreter": {
    "hash": "0455a6844fd704613d0ac5503439d73966845baf079f714fff9990df1a016182"
   }
  }
 },
 "nbformat": 4,
 "nbformat_minor": 2
}
