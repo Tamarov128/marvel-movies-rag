{
 "cells": [
  {
   "cell_type": "markdown",
   "metadata": {},
   "source": [
    "### Setup"
   ]
  },
  {
   "cell_type": "code",
   "execution_count": 14,
   "metadata": {},
   "outputs": [],
   "source": [
    "# Make `scripts` importable and pull in embedder + endpoint\n",
    "import sys, os\n",
    "\n",
    "# ensure project root (one level up from notebooks/) is on sys.path\n",
    "project_root = os.path.abspath(os.path.join(os.getcwd(), \"..\"))\n",
    "if project_root not in sys.path:\n",
    "    sys.path.append(project_root)\n",
    "\n",
    "from scripts.process_data import LocalServerEmbeddings, EMBED_ENDPOINT\n",
    "\n",
    "# instantiate with the endpoint from your script\n",
    "embedder = LocalServerEmbeddings(endpoint=EMBED_ENDPOINT)"
   ]
  },
  {
   "cell_type": "code",
   "execution_count": 23,
   "metadata": {},
   "outputs": [
    {
     "name": "stdout",
     "output_type": "stream",
     "text": [
      "Connected to ChromaDB - Total documents: 3417\n"
     ]
    }
   ],
   "source": [
    "# Connect to existing ChromaDB store\n",
    "import chromadb\n",
    "from langchain_chroma import Chroma\n",
    "\n",
    "# Configuration\n",
    "COLLECTION_NAME = \"marvel_films\"\n",
    "CHROMA_DIR = os.path.join(project_root, \"data\", \"chroma\", \"chroma_wikipedia\")\n",
    "\n",
    "try:\n",
    "    # Create ChromaDB client\n",
    "    client = chromadb.PersistentClient(path=CHROMA_DIR)\n",
    "    collection = client.get_collection(name=COLLECTION_NAME)\n",
    "    total_direct = collection.count()\n",
    "    print(f\"Connected to ChromaDB - Total documents: {total_direct}\")\n",
    "    \n",
    "    # Create LangChain Chroma vectorstore\n",
    "    vectordb = Chroma(\n",
    "        client=client,\n",
    "        collection_name=COLLECTION_NAME,\n",
    "        embedding_function=embedder,\n",
    "    )\n",
    "\n",
    "    # Create retriever from the vectorstore\n",
    "    retriever = vectordb.as_retriever(\n",
    "        search_type=\"similarity\",\n",
    "        search_kwargs={\"k\": 10}\n",
    "    )\n",
    "    \n",
    "except Exception as e:\n",
    "    print(f\"Error setting up retriever: {e}\")\n",
    "    raise"
   ]
  },
  {
   "cell_type": "code",
   "execution_count": 17,
   "metadata": {},
   "outputs": [],
   "source": [
    "# Use the ChatOpenAI from langchain_openai\n",
    "from langchain_openai import ChatOpenAI\n",
    "\n",
    "llm = ChatOpenAI(\n",
    "    model=\"gpt-3.5-turbo\",    # or model_name if that’s the signature in your version\n",
    "    temperature=0.0,\n",
    ")"
   ]
  },
  {
   "cell_type": "code",
   "execution_count": 18,
   "metadata": {},
   "outputs": [],
   "source": [
    "# Build the RetrievalQA chain and run your test question\n",
    "from langchain.chains import RetrievalQA\n",
    "\n",
    "qa = RetrievalQA.from_chain_type(\n",
    "    llm=llm,\n",
    "    chain_type=\"stuff\",\n",
    "    retriever=retriever,\n",
    ")"
   ]
  },
  {
   "cell_type": "markdown",
   "metadata": {},
   "source": [
    "### Q&A testing"
   ]
  },
  {
   "cell_type": "code",
   "execution_count": 19,
   "metadata": {},
   "outputs": [
    {
     "name": "stdout",
     "output_type": "stream",
     "text": [
      "Q: In Avengers: Endgame, what sacrifice does Iron Man make?\n",
      "A: {'query': 'In Avengers: Endgame, what sacrifice does Iron Man make?', 'result': 'In Avengers: Endgame, Iron Man, portrayed by Robert Downey Jr., makes the ultimate sacrifice by using the Infinity Stones to snap his fingers and defeat Thanos. This act leads to his death, saving the universe but costing him his life.'}\n"
     ]
    }
   ],
   "source": [
    "question = \"In Avengers: Endgame, what sacrifice does Iron Man make?\"\n",
    "answer = qa(question)\n",
    "print(\"Q:\", question)\n",
    "print(\"A:\", answer)"
   ]
  },
  {
   "cell_type": "code",
   "execution_count": 20,
   "metadata": {},
   "outputs": [
    {
     "name": "stdout",
     "output_type": "stream",
     "text": [
      "Q: Who is Ant-Man?\n",
      "A: {'query': 'Who is Ant-Man?', 'result': 'Ant-Man is a superhero character from Marvel Comics who can shrink in size while increasing in strength. In the Marvel Cinematic Universe, Ant-Man is portrayed by actor Paul Rudd as Scott Lang, a former electrical engineer turned petty criminal who acquires a suit that allows him to shrink or grow in scale. He works alongside Hank Pym, the original Ant-Man, to protect the shrinking technology and carry out heists with global consequences.'}\n"
     ]
    }
   ],
   "source": [
    "question = \"Who is Ant-Man?\"\n",
    "answer = qa(question)\n",
    "print(\"Q:\", question)\n",
    "print(\"A:\", answer)"
   ]
  },
  {
   "cell_type": "code",
   "execution_count": 21,
   "metadata": {},
   "outputs": [
    {
     "name": "stdout",
     "output_type": "stream",
     "text": [
      "Q: Give me 10 members of the cast of Deadpool 2.\n",
      "A: {'query': 'Give me 10 members of the cast of Deadpool 2.', 'result': '1. Ryan Reynolds as Deadpool\\n2. Josh Brolin as Cable\\n3. Morena Baccarin as Vanessa Carlysle\\n4. Julian Dennison\\n5. Zazie Beetz\\n6. T.J. Miller\\n7. Brianna Hildebrand as Negasonic Teenage Warhead\\n8. Jack Kesy\\n9. Leslie Uggams as Blind Al\\n10. Karan Soni as Dopinder'}\n"
     ]
    }
   ],
   "source": [
    "question = \"Give me 10 members of the cast of Deadpool 2.\"\n",
    "answer = qa(question)\n",
    "print(\"Q:\", question)\n",
    "print(\"A:\", answer)"
   ]
  },
  {
   "cell_type": "code",
   "execution_count": 24,
   "metadata": {},
   "outputs": [
    {
     "name": "stdout",
     "output_type": "stream",
     "text": [
      "\n",
      "--- Relevant Documents ---\n",
      "Document 1:\n",
      "Robert Downey Jr. as Tony Stark / Iron Man: The leader of a faction of Avengers in support of regulation; a self-described genius, billionaire, playboy, and philanthropist with electromechanical suits of armor of his own invention. Anthony Russo said that Stark's egomania allowed the writers \"to bring him to a point in his life where he was willing to submit to an authority, where he felt it was the right thing to do.\" Joe Russo added that because of the visions Stark saw in Age of Ultron, he now has a guilt complex which \"drives him to make very specific decisions,\" calling his emotional arc \"very complicated\". Downey's personal trainer Eric Oram stated that the trick to pitting Rogers against Stark, \"is to show Iron Man using the 'minimum force' necessary to win the fight\". Marvel initially wanted Downey's part to be smaller, but \"Downey wanted Stark to have a more substantial role in the film's plot.\" Variety noted that Downey would receive $40 million plus backend for his\n",
      "\n",
      "Source: 41974496_Captain+America%3A+Civil+War.json\n",
      "\n",
      "Document 2:\n",
      "Cast\n",
      "Robert Downey Jr. as Tony Stark / Iron Man: The benefactor of the Avengers who is a self-described genius, billionaire, playboy, and philanthropist with electromechanical suits of armor of his own making. Co-director Joe Russo explained that Stark \"senses this greater threat approaching, so he is doing everything in his power to keep the Earth safe\". Downey added that Stark has smaller goals than in previous films.\n",
      "\n",
      "Source: 44240443_Avengers%3A+Infinity+War.json\n",
      "\n",
      "Document 3:\n",
      "Avengers: Endgame is a 2019 American superhero film based on the Marvel Comics superhero team the Avengers. Produced by Marvel Studios and distributed by Walt Disney Studios Motion Pictures, it is the direct sequel to Avengers: Infinity War (2018) and the 22nd film in the Marvel Cinematic Universe (MCU). Directed by Anthony and Joe Russo and written by Christopher Markus and Stephen McFeely, the film features an ensemble cast which includes Robert Downey Jr., Chris Evans, Mark Ruffalo, Chris Hemsworth, Scarlett Johansson, Jeremy Renner, Don Cheadle, Paul Rudd, Brie Larson, Karen Gillan, Danai Gurira, Benedict Wong, Jon Favreau, Bradley Cooper, Gwyneth Paltrow, and Josh Brolin. In the film, the surviving members of the Avengers and their allies attempt to reverse Thanos's actions in Infinity War which erased half of all life in the universe.\n",
      "\n",
      "Source: 44254295_Avengers%3A+Endgame.json\n",
      "\n",
      "Document 4:\n",
      "Robert Downey Jr. as Tony Stark / Iron Man:The benefactor of the Avengers who describes himself as a \"genius, billionaire, playboy, and philanthropist\" with electromechanical suits of armor he made. According to directors Joe and Anthony Russo, Downey was the only actor to receive the entire screenplay for the film. Screenwriters Christopher Markus and Stephen McFeely knew that Stark's death was inevitable as a \"[move] to selflessness\" and as an end to the \"chapter\" Stark began. They felt that his death was earned after granting him \"the perfect retirement life ... That's the life he's been striving for [...] They got married, they had a kid, it was great. It's a good death. It doesn't feel like a tragedy. It feels like a heroic, finished life.\" Joe Russo said that Stark \"always knew he was going to die because he could never reconcile that notion in himself of not protecting the universe,\" and was the most defiant of the Avengers: \"Stark is the most formidable of all of them [...]\n",
      "\n",
      "Source: 44254295_Avengers%3A+Endgame.json\n",
      "\n",
      "Document 5:\n",
      "the title references a line by Doctor Strange to Tony Stark in Infinity War and a line by Stark in Age of Ultron. Goslin said, \"The scene surrounding this line in Age of Ultron is one of the most important ones in the movie. Things look dark, and the group of heroes face an enemy they don't think they can defeat.\" The Endgame trailer \"mirrors this perfectly\", and \"shows us that the Avengers' two most prominent characters are who they've always been: Iron Man, a pessimist who keeps fighting no matter how hopeless things look, and Captain America, an optimist who believes that nothing is hopeless when the world's heroes fight together.\" The trailer was viewed 289 million times in its first 24 hours and was the most-viewed trailer in that time period, surpassing the record of Avengers: Infinity War (230 million views). It set a record for Twitter conversation for a film trailer in the first 24 hours, generating 549,000 mentions. By January 3, 2019, BoxOffice's \"Trailer Impact\" metric\n",
      "\n",
      "Source: 44254295_Avengers%3A+Endgame.json\n",
      "\n",
      "Document 6:\n",
      "According to Feige, Civil War is the conclusion of the Captain America trilogy that began with The First Avenger. While it is the final standalone Captain America film in Evans' contract with Marvel Studios, Evans said in September 2015 that he was open to extending his contract past Avengers: Infinity War (2018) and Avengers: Endgame (2019), the final films on his contract at the time. In November 2018, Joe Russo said that Evans was \"not done yet\" with Captain America after Endgame. In November 2019, when asked if he would reprise the role of Captain America, Evans responded, \"You never say never. I love the character. I don't know,\" and added, \"It's not a hard no, but it's not an eager yes either.\" In January 2021, Evans was reportedly close to signing a deal to reprise the role of Captain America in at least one future project. Evans' involvement was said to be similar to how Downey had supporting roles in other film franchises, such as Civil War, after concluding the Iron Man film\n",
      "\n",
      "Source: 41974496_Captain+America%3A+Civil+War.json\n",
      "\n",
      "Document 7:\n",
      "Robert Downey Jr. as Tony Stark / Iron Man:A self-described genius, billionaire, playboy, philanthropist, and an Avenger with electromechanical suits of armor of his own invention who is Parker's mentor and the creator of the U.S. Department of Damage Control. Sony Pictures Motion Picture Group chairman Tom Rothman noted that, beyond the commercial advantage of featuring Downey in the film, the inclusion of Stark was important due to the relationship established between him and Parker in Captain America: Civil War. Watts noted that after Stark's actions in Civil War, introducing Parker to life as an Avenger, there are \"a lot of repercussions to that. Is it a first step towards Tony as some sort of mentor figure? Is he comfortable with that?\" Co-writer Jonathan Goldstein compared Stark to Ethan Hawke's father character in Boyhood (2014).\n",
      "\n",
      "Source: 45359871_Spider-Man%3A+Homecoming.json\n",
      "\n",
      "Document 8:\n",
      "In July, Feige discussed specific moments in the film, including an homage to The Amazing Spider-Man issue 33 where Parker is trapped underneath rubble, something Feige \"wanted to see in a movie for a long, long time\". Daley said that they added the scene to the script because of how much Feige wanted it, and explained, \"We have [Parker] starting the scene with such self-doubt and helplessness, in a way that you really see the kid. You feel for him. He's screaming for help, because he doesn't think he can do it, and then ... he kind of realizes that that's been his biggest problem.\" Feige compared the film's final scene, where Parker accidentally reveals that he is Spider-Man to his Aunt May, to the ending of Iron Man (2008) when Stark reveals that he is Iron Man to the world, saying, \"What does that mean for the next movie? I don't know, but it will force us to do something unique.\" Goldstein added that it \"diminishes what is often the most trivial part of superhero worlds, which is\n",
      "\n",
      "Source: 45359871_Spider-Man%3A+Homecoming.json\n",
      "\n",
      "Document 9:\n",
      "In Wakanda, Rogers reunites with Bucky Barnes before Thanos' army invades. The Avengers, along with T'Challa and the Wakandan forces, mount a defense while Shuri works to extract the Mind Stone from Vision. Unable to summon the Hulk, Banner fights in Stark's Hulkbuster armor. Thor, Rocket, and Groot arrive to reinforce the Avengers. Together they kill Midnight, Obsidian, and Glaive, and rout Thanos's army. Shuri cannot complete the extraction before Thanos arrives on the field; the Avengers and their allies fail to stop him from reaching Vision. Vision convinces a reluctant Wanda to destroy him and the Mind Stone, but Thanos uses the Time Stone to reverse her actions, rip the stone from Vision's forehead, and complete the Gauntlet. Thor severely wounds Thanos with Stormbreaker, but Thanos activates the completed Gauntlet by snapping his fingers before teleporting away.\n",
      "\n",
      "Source: 44240443_Avengers%3A+Infinity+War.json\n",
      "\n",
      "Document 10:\n",
      "Plot\n",
      "In 2018, 23 days after Thanos erased half of all life in the universe, Carol Danvers rescues Tony Stark and Nebula from deep space. They reunite with the remaining Avengers—Bruce Banner, Steve Rogers, Thor, Natasha Romanoff, and James Rhodes—and Rocket on Earth. Locating Thanos on an uninhabited planet, they plan to use the Infinity Stones to reverse his actions but find that Thanos has destroyed them. Enraged, Thor decapitates Thanos.\n",
      "\n",
      "Source: 44254295_Avengers%3A+Endgame.json\n",
      "\n"
     ]
    }
   ],
   "source": [
    "import os\n",
    "\n",
    "# Define the user's question\n",
    "query = \"In Avengers: Endgame, what sacrifice does Iron Man make?\"\n",
    "\n",
    "relevant_docs = retriever.invoke(query)\n",
    "\n",
    "# Display the relevant results with metadata\n",
    "print(\"\\n--- Relevant Documents ---\")\n",
    "for i, doc in enumerate(relevant_docs, 1):\n",
    "    print(f\"Document {i}:\\n{doc.page_content}\\n\")\n",
    "    print(f\"Source: {doc.metadata['source']}\\n\")"
   ]
  }
 ],
 "metadata": {
  "kernelspec": {
   "display_name": "Python 3.13.0 ('venv': venv)",
   "language": "python",
   "name": "python3"
  },
  "language_info": {
   "codemirror_mode": {
    "name": "ipython",
    "version": 3
   },
   "file_extension": ".py",
   "mimetype": "text/x-python",
   "name": "python",
   "nbconvert_exporter": "python",
   "pygments_lexer": "ipython3",
   "version": "3.13.0"
  },
  "orig_nbformat": 4,
  "vscode": {
   "interpreter": {
    "hash": "0455a6844fd704613d0ac5503439d73966845baf079f714fff9990df1a016182"
   }
  }
 },
 "nbformat": 4,
 "nbformat_minor": 2
}
