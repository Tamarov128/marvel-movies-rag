{
 "cells": [
  {
   "cell_type": "markdown",
   "metadata": {},
   "source": [
    "### Setup"
   ]
  },
  {
   "cell_type": "code",
   "execution_count": 25,
   "metadata": {},
   "outputs": [],
   "source": [
    "# Make `scripts` importable and pull in embedder + endpoint\n",
    "import sys, os\n",
    "\n",
    "# ensure project root (one level up from notebooks/) is on sys.path\n",
    "project_root = os.path.abspath(os.path.join(os.getcwd(), \"..\"))\n",
    "if project_root not in sys.path:\n",
    "    sys.path.append(project_root)\n",
    "\n",
    "from scripts.process_data import LocalServerEmbeddings, EMBED_ENDPOINT\n",
    "\n",
    "# instantiate with the endpoint from your script\n",
    "embedder = LocalServerEmbeddings(endpoint=EMBED_ENDPOINT)"
   ]
  },
  {
   "cell_type": "code",
   "execution_count": 26,
   "metadata": {},
   "outputs": [],
   "source": [
    "# Connect to existing ChromaDB store\n",
    "from langchain_chroma import Chroma\n",
    "from dotenv import load_dotenv\n",
    "\n",
    "load_dotenv()\n",
    "vectordb = Chroma(\n",
    "    persist_directory=\"data/chroma\",\n",
    "    collection_name=\"marvel_films\",\n",
    "    embedding_function=embedder,\n",
    ")\n",
    "\n",
    "retriever = vectordb.as_retriever(\n",
    "    search_type=\"similarity_score_threshold\",\n",
    "    search_kwargs={\"k\": 3, \"score_threshold\": 0.1},\n",
    ")"
   ]
  },
  {
   "cell_type": "code",
   "execution_count": 12,
   "metadata": {},
   "outputs": [],
   "source": [
    "# Use the ChatOpenAI from langchain_openai\n",
    "from langchain_openai import ChatOpenAI\n",
    "\n",
    "llm = ChatOpenAI(\n",
    "    model=\"gpt-3.5-turbo\",    # or model_name if that’s the signature in your version\n",
    "    temperature=0.0,\n",
    ")"
   ]
  },
  {
   "cell_type": "code",
   "execution_count": null,
   "metadata": {},
   "outputs": [
    {
     "name": "stderr",
     "output_type": "stream",
     "text": [
      "No relevant docs were retrieved using the relevance score threshold 0.1\n"
     ]
    }
   ],
   "source": [
    "from langchain_openai import ChatOpenAI\n",
    "\n",
    "llm = ChatOpenAI(\n",
    "    model_name=\"phi-4-mini-instruct\",\n",
    "    openai_api_base=\"http://127.0.0.1:1234/v1\",\n",
    "    openai_api_key=\"lm-studio\",  # dummy key to satisfy format\n",
    ")"
   ]
  },
  {
   "cell_type": "code",
   "execution_count": 23,
   "metadata": {},
   "outputs": [],
   "source": [
    "# Build the RetrievalQA chain and run your test question\n",
    "from langchain.chains import RetrievalQA\n",
    "\n",
    "qa = RetrievalQA.from_chain_type(\n",
    "    llm=llm,\n",
    "    chain_type=\"stuff\",\n",
    "    retriever=retriever,\n",
    ")"
   ]
  },
  {
   "cell_type": "markdown",
   "metadata": {},
   "source": [
    "### Q&A testing"
   ]
  },
  {
   "cell_type": "code",
   "execution_count": 24,
   "metadata": {},
   "outputs": [
    {
     "name": "stdout",
     "output_type": "stream",
     "text": [
      "Q: In Avengers: Endgame, what sacrifice does Iron Man make?\n",
      "A: {'query': 'In Avengers: Endgame, what sacrifice does Iron Man make?', 'result': 'Ironman makes a significant personal and emotional sacrifice in \"Avengers: Endgame\". He gives away his Stark Industries fortune along with all of Tony\\'s collected artifacts. This includes the Infinity Stones which he had amassed over time for safekeeping at home.\\n\\nTony also chooses to give up everything else, including any chance or hope that there might still be a future for himself in this new world order created by Thanos\\' snap on Earth-838 (the Universe where Stark Industries was destroyed). His sacrifice is not only material but emotional as well; he gives his heart and soul into helping others even though it means giving up everything he\\'s worked so hard to achieve.\\n\\nThis moment of selflessness serves the greater good, allowing Captain America time alone with Peggy Carter in order for them both to start a new family together. It\\'s also Tony\\'s way of saying goodbye by fulfilling one final dream - coming face-to-face again as Iron Man and Thor after their years apart on Earth-838 when they reunite at Mount Wundagore.\\n\\nIn the end, it\\'s not just about sacrificing his personal treasures or artifacts but giving up everything that makes him who he is. It\\'s a bittersweet moment for Tony Stark because it means letting go of parts of himself even though he\\'s doing what anyone would do in similar circumstances - selflessly putting others before themselves and hoping to make things right as best they can.\\n\\nTony\\'s sacrifice at the end shows how much his character has grown throughout the course of \"The Avengers\" series. His willingness to put aside all that he holds dear for a greater good is indicative not just of Iron Man but also what it means being human - caring, sacrificing and hoping against hope even when faced with seemingly insurmountable odds.\\n\\nIn summary Tony\\'s sacrifice in Endgame isn\\'t only about giving up material possessions or artifacts like the Infinity Stones; it\\'s more significantly emotional as well. He gives away everything that he holds dear to help others make things right after Thanos\\' snap on Earth-838 which ultimately leads him sacrificing his personal treasures but also emotionally letting go of what makes us human - caring for each other and hoping against hope even when faced with seemingly insurmountable odds.\\n'}\n"
     ]
    }
   ],
   "source": [
    "question = \"In Avengers: Endgame, what sacrifice does Iron Man make?\"\n",
    "answer = qa(question)\n",
    "print(\"Q:\", question)\n",
    "print(\"A:\", answer)"
   ]
  },
  {
   "cell_type": "markdown",
   "metadata": {},
   "source": [
    "A: {'query': 'In Avengers: Endgame, what sacrifice does Iron Man make?', 'result': 'Ironman makes a significant personal and emotional sacrifice in \"Avengers: Endgame\". He gives away his Stark Industries fortune along with all of Tony\\'s collected artifacts. This includes the Infinity Stones which he had amassed over time for safekeeping at home.\\n\\nTony also chooses to give up everything else, including any chance or hope that there might still be a future for himself in this new world order created by Thanos\\' snap on Earth-838 (the Universe where Stark Industries was destroyed). His sacrifice is not only material but emotional as well; he gives his heart and soul into helping others even though it means giving up everything he\\'s worked so hard to achieve.\\n\\nThis moment of selflessness serves the greater good, allowing Captain America time alone with Peggy Carter in order for them both to start a new family together. It\\'s also Tony\\'s way of saying goodbye by fulfilling one final dream - coming face-to-face again as Iron Man and Thor after their years apart on Earth-838 when they reunite at Mount Wundagore.\\n\\nIn the end, it\\'s not just about sacrificing his personal treasures or artifacts but giving up everything that makes him who he is. It\\'s a bittersweet moment for Tony Stark because it means letting go of parts of himself even though he\\'s doing what anyone would do in similar circumstances - selflessly putting others before themselves and hoping to make things right as best they can.\\n\\nTony\\'s sacrifice at the end shows how much his character has grown throughout the course of \"The Avengers\" series. His willingness to put aside all that he holds dear for a greater good is indicative not just of Iron Man but also what it means being human - caring, sacrificing and hoping against hope even when faced with seemingly insurmountable odds.\\n\\nIn summary Tony\\'s sacrifice in Endgame isn\\'t only about giving up material possessions or artifacts like the Infinity Stones; it\\'s more significantly emotional as well. He gives away everything that he holds dear to help others make things right after Thanos\\' snap on Earth-838 which ultimately leads him sacrificing his personal treasures but also emotionally letting go of what makes us human - caring for each other and hoping against hope even when faced with seemingly insurmountable odds.\\n'}\n"
   ]
  },
  {
   "cell_type": "code",
   "execution_count": 18,
   "metadata": {},
   "outputs": [
    {
     "name": "stdout",
     "output_type": "stream",
     "text": [
      "Q: Who is Ant-Man?\n",
      "A: {'query': 'Who is Ant-Man?', 'result': 'Ant-Man is a fictional superhero appearing in comic books published by Marvel Comics. The character was created by Stan Lee, Larry Lieber, and Jack Kirby and first appeared in \"Tales to Astonish\" #27 in 1962. Ant-Man has the ability to shrink in size while increasing in strength, and he is able to communicate with insects. There have been multiple characters who have taken on the mantle of Ant-Man in the comics, with the most well-known being Scott Lang and Hank Pym.'}\n"
     ]
    }
   ],
   "source": [
    "question = \"Who is Ant-Man?\"\n",
    "answer = qa(question)\n",
    "print(\"Q:\", question)\n",
    "print(\"A:\", answer)"
   ]
  },
  {
   "cell_type": "markdown",
   "metadata": {},
   "source": [
    "### Conversational"
   ]
  },
  {
   "cell_type": "code",
   "execution_count": 29,
   "metadata": {},
   "outputs": [],
   "source": [
    "from langchain_core.prompts import ChatPromptTemplate, MessagesPlaceholder\n",
    "from langchain.chains import create_history_aware_retriever, create_retrieval_chain\n",
    "from langchain.chains.combine_documents import create_stuff_documents_chain\n",
    "from langchain_core.messages import HumanMessage, SystemMessage\n",
    "from google.cloud import firestore\n",
    "from langchain_google_firestore import FirestoreChatMessageHistory\n",
    "\n",
    "PROJECT_ID = \"fml-project-5509d\"\n",
    "SESSION_ID = \"user_session_new\"\n",
    "COLLECTION_NAME = \"chat_history\"\n",
    "\n",
    "print(\"Initializing Firestore Client...\")\n",
    "client = firestore.Client(project=PROJECT_ID)\n",
    "\n",
    "# Initialize Firestore Chat Message History\n",
    "print(\"Initializing Firestore Chat Message History...\")\n",
    "chat_history = FirestoreChatMessageHistory(\n",
    "    session_id=SESSION_ID,\n",
    "    collection=COLLECTION_NAME,\n",
    "    client=client,\n",
    ")\n",
    "\n",
    "contextualize_q_system_prompt = (\n",
    "    \"Given a chat history and the latest user question \"\n",
    "    \"which might reference context in the chat history, \"\n",
    "    \"formulate a standalone question which can be understood \"\n",
    "    \"without the chat history. Do NOT answer the question, just \"\n",
    "    \"reformulate it if needed and otherwise return it as is.\"\n",
    ")\n",
    "\n",
    "# Create a prompt template for contextualizing questions\n",
    "contextualize_q_prompt = ChatPromptTemplate.from_messages(\n",
    "    [\n",
    "        (\"system\", contextualize_q_system_prompt),\n",
    "        MessagesPlaceholder(\"chat_history\"),\n",
    "        (\"human\", \"{input}\"),\n",
    "    ]\n",
    ")\n",
    "\n",
    "# Create a history-aware retriever\n",
    "# This uses the LLM to help reformulate the question based on chat history\n",
    "history_aware_retriever = create_history_aware_retriever(\n",
    "    llm, retriever, contextualize_q_prompt\n",
    ")\n",
    "\n",
    "# Answer question prompt\n",
    "# This system prompt helps the AI understand that it should provide concise answers\n",
    "# based on the retrieved context and indicates what to do if the answer is unknown\n",
    "qa_system_prompt = (\n",
    "    \"You are an assistant for question-answering tasks. Use \"\n",
    "    \"the following pieces of retrieved context to answer the \"\n",
    "    \"question. If you don't know the answer, just say that you \"\n",
    "    \"don't know. Use three sentences maximum and keep the answer \"\n",
    "    \"concise.\"\n",
    "    \"\\n\\n\"\n",
    "    \"{context}\"\n",
    ")\n",
    "\n",
    "# Create a prompt template for answering questions\n",
    "qa_prompt = ChatPromptTemplate.from_messages(\n",
    "    [\n",
    "        (\"system\", qa_system_prompt),\n",
    "        MessagesPlaceholder(\"chat_history\"),\n",
    "        (\"human\", \"{input}\"),\n",
    "    ]\n",
    ")\n",
    "\n",
    "# Create a chain to combine documents for question answering\n",
    "# `create_stuff_documents_chain` feeds all retrieved context into the LLM\n",
    "question_answer_chain = create_stuff_documents_chain(llm, qa_prompt)\n",
    "\n",
    "# Create a retrieval chain that combines the history-aware retriever and the question answering chain\n",
    "rag_chain = create_retrieval_chain(history_aware_retriever, question_answer_chain)\n",
    "\n",
    "\n",
    "# Function to simulate a continual chat\n",
    "def continual_chat():\n",
    "    print(\"Start chatting with the AI! Type 'exit' to end the conversation.\")\n",
    "    while True:\n",
    "        query = input(\"You: \")\n",
    "        if query.lower() == \"exit\":\n",
    "            break\n",
    "        # Process the user's query through the retrieval chain\n",
    "        result = rag_chain.invoke({\"input\": query, \"chat_history\": chat_history})\n",
    "        # Display the AI's response\n",
    "        print(f\"AI: {result['answer']}\")\n",
    "        # Update the chat history\n",
    "        chat_history.append(SystemMessage(content=result[\"answer\"]))"
   ]
  }
 ],
 "metadata": {
  "kernelspec": {
   "display_name": "venv",
   "language": "python",
   "name": "python3"
  },
  "language_info": {
   "codemirror_mode": {
    "name": "ipython",
    "version": 3
   },
   "file_extension": ".py",
   "mimetype": "text/x-python",
   "name": "python",
   "nbconvert_exporter": "python",
   "pygments_lexer": "ipython3",
   "version": "3.12.6"
  },
  "orig_nbformat": 4
 },
 "nbformat": 4,
 "nbformat_minor": 2
}
